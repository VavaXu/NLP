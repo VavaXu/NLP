{
  "cells": [
    {
      "cell_type": "markdown",
      "metadata": {
        "id": "aafMIEuhoGeE"
      },
      "source": [
        "# Fall 2022: DS-GA 1011 NLP with Representation Learning\n",
        "## Homework 2\n",
        "## Part 2: Neural Language Modeling (30 pts)\n",
        "In this assignment, you will build and analyze a neural language model with a recurrent neural network."
      ]
    },
    {
      "cell_type": "code",
      "source": [
        "!pip install jsonlines"
      ],
      "metadata": {
        "colab": {
          "base_uri": "https://localhost:8080/"
        },
        "id": "uoKgYbAEudVq",
        "outputId": "7dc9c557-ad5d-4563-d95d-43f1918374af"
      },
      "execution_count": null,
      "outputs": [
        {
          "output_type": "stream",
          "name": "stdout",
          "text": [
            "Looking in indexes: https://pypi.org/simple, https://us-python.pkg.dev/colab-wheels/public/simple/\n",
            "Collecting jsonlines\n",
            "  Downloading jsonlines-3.1.0-py3-none-any.whl (8.6 kB)\n",
            "Requirement already satisfied: attrs>=19.2.0 in /usr/local/lib/python3.7/dist-packages (from jsonlines) (22.1.0)\n",
            "Requirement already satisfied: typing-extensions in /usr/local/lib/python3.7/dist-packages (from jsonlines) (4.1.1)\n",
            "Installing collected packages: jsonlines\n",
            "Successfully installed jsonlines-3.1.0\n"
          ]
        }
      ]
    },
    {
      "cell_type": "code",
      "execution_count": null,
      "metadata": {
        "id": "xqlguqV9oGeF"
      },
      "outputs": [],
      "source": [
        "# Import required packages\n",
        "import os\n",
        "import copy\n",
        "import json\n",
        "import jsonlines\n",
        "import numpy as np\n",
        "from collections import defaultdict\n",
        "import matplotlib.pyplot as plt\n",
        "\n",
        "import torch\n",
        "import torch.nn as nn\n",
        "from tqdm import tqdm\n",
        "import torch.optim as optim\n",
        "import torch.nn.functional as F\n",
        "from torch.nn import LSTM\n",
        "from torch.utils.data import Dataset, DataLoader"
      ]
    },
    {
      "cell_type": "code",
      "source": [
        "# For colab users\n",
        "from google.colab import drive\n",
        "drive.mount('/content/drive')"
      ],
      "metadata": {
        "colab": {
          "base_uri": "https://localhost:8080/"
        },
        "id": "QFol-P07ta37",
        "outputId": "ea944b02-5fde-4f24-cda2-370fe86bcb81"
      },
      "execution_count": null,
      "outputs": [
        {
          "output_type": "stream",
          "name": "stdout",
          "text": [
            "Mounted at /content/drive\n"
          ]
        }
      ]
    },
    {
      "cell_type": "code",
      "source": [
        "import sys\n",
        "sys.path.append(\"/content/drive/MyDrive/nlp/hw2\")\n",
        "sys.path.append(\"/content/drive/MyDrive/nlp/hw2/pyfiles\")\n",
        "sys.path"
      ],
      "metadata": {
        "colab": {
          "base_uri": "https://localhost:8080/"
        },
        "id": "q0E0-XepthMP",
        "outputId": "eb18923b-1eca-4c7d-8bdc-35ca2a254fed"
      },
      "execution_count": null,
      "outputs": [
        {
          "output_type": "execute_result",
          "data": {
            "text/plain": [
              "['/content',\n",
              " '/env/python',\n",
              " '/usr/lib/python37.zip',\n",
              " '/usr/lib/python3.7',\n",
              " '/usr/lib/python3.7/lib-dynload',\n",
              " '',\n",
              " '/usr/local/lib/python3.7/dist-packages',\n",
              " '/usr/lib/python3/dist-packages',\n",
              " '/usr/local/lib/python3.7/dist-packages/IPython/extensions',\n",
              " '/root/.ipython',\n",
              " '/content/drive/MyDrive/nlp/hw2',\n",
              " '/content/drive/MyDrive/nlp/hw2/pyfiles']"
            ]
          },
          "metadata": {},
          "execution_count": 4
        }
      ]
    },
    {
      "cell_type": "code",
      "source": [
        "cd /content/drive/MyDrive/nlp/hw2/"
      ],
      "metadata": {
        "colab": {
          "base_uri": "https://localhost:8080/"
        },
        "id": "S8CqfG_Otj5f",
        "outputId": "6e162f3a-985b-4baa-e29a-6c053e891fba"
      },
      "execution_count": null,
      "outputs": [
        {
          "output_type": "stream",
          "name": "stdout",
          "text": [
            "/content/drive/MyDrive/nlp/hw2\n"
          ]
        }
      ]
    },
    {
      "cell_type": "code",
      "source": [
        "ls"
      ],
      "metadata": {
        "colab": {
          "base_uri": "https://localhost:8080/"
        },
        "id": "8sZL2ST1tkyH",
        "outputId": "0a4699bb-fa9e-4a15-b3a2-a6ad4c845973"
      },
      "execution_count": null,
      "outputs": [
        {
          "output_type": "stream",
          "name": "stdout",
          "text": [
            "\u001b[0m\u001b[01;34mdata\u001b[0m/                      model_lstm_128.pt  \u001b[01;34mpyfiles\u001b[0m/\n",
            "\u001b[01;34mhw2-part1-bow_nli\u001b[0m/         model_lstm_256.pt  wikitext2-sentencized.json\n",
            "hw2-part2-nlm_zx657.ipynb  model_lstm_512.pt\n",
            "hw2-part3-nmt_zx657.ipynb  model_lstm_64.pt\n"
          ]
        }
      ]
    },
    {
      "cell_type": "code",
      "source": [
        "# Import custom modules\n",
        "from pyfiles import bleu_score\n",
        "from pyfiles import global_variables\n",
        "from pyfiles import nmt_dataset\n",
        "from pyfiles import nnet_models_new"
      ],
      "metadata": {
        "id": "oKONb3L7vO4Y"
      },
      "execution_count": null,
      "outputs": []
    },
    {
      "cell_type": "code",
      "source": [
        "#torch.cuda.is_available()\n",
        "global_variables.device"
      ],
      "metadata": {
        "colab": {
          "base_uri": "https://localhost:8080/"
        },
        "id": "Nyk-4_jKtqv8",
        "outputId": "ea33ddca-41d2-4ba8-b611-22e64f83566f"
      },
      "execution_count": null,
      "outputs": [
        {
          "output_type": "execute_result",
          "data": {
            "text/plain": [
              "device(type='cuda')"
            ]
          },
          "metadata": {},
          "execution_count": 8
        }
      ]
    },
    {
      "cell_type": "code",
      "source": [
        "num_gpus = torch.cuda.device_count()\n",
        "if num_gpus > 0:\n",
        "    current_device = 'cuda'\n",
        "else:\n",
        "    current_device = 'cpu'\n",
        "current_device"
      ],
      "metadata": {
        "colab": {
          "base_uri": "https://localhost:8080/",
          "height": 35
        },
        "id": "nfmcEXx3jWqA",
        "outputId": "13c5fd3d-e903-4b81-9faa-08856e275657"
      },
      "execution_count": null,
      "outputs": [
        {
          "output_type": "execute_result",
          "data": {
            "text/plain": [
              "'cuda'"
            ],
            "application/vnd.google.colaboratory.intrinsic+json": {
              "type": "string"
            }
          },
          "metadata": {},
          "execution_count": 9
        }
      ]
    },
    {
      "cell_type": "markdown",
      "metadata": {
        "id": "LZYu0UrL2VLr"
      },
      "source": [
        "---\n",
        "### 1 LSTM and Hyper-parameters (10 pts)\n",
        "Your first task is to train a neural recurrent language model on Wikitext-2."
      ]
    },
    {
      "cell_type": "markdown",
      "metadata": {
        "id": "-h2bkwWt25m3"
      },
      "source": [
        "#### Load data"
      ]
    },
    {
      "cell_type": "code",
      "execution_count": null,
      "metadata": {
        "id": "7V-b8kAKoGeJ"
      },
      "outputs": [],
      "source": [
        "def load_wikitext(filename='wikitext2-sentencized.json'):\n",
        "    if not os.path.exists(filename):\n",
        "        !wget \"https://nyu.box.com/shared/static/9kb7l7ci30hb6uahhbssjlq0kctr5ii4.json\" -O $filename\n",
        "    \n",
        "    datasets = json.load(open(filename, 'r'))\n",
        "    for name in datasets:\n",
        "        datasets[name] = [x.split() for x in datasets[name]]\n",
        "    vocab = list(set([t for ts in datasets['train'] for t in ts]))      \n",
        "    print(\"Vocab size: %d\" % (len(vocab)))\n",
        "    return datasets, vocab\n",
        "\n",
        "def perplexity(model, sequences):\n",
        "    n_total = 0\n",
        "    logp_total = 0\n",
        "    for sequence in sequences:\n",
        "        logp_total += model.sequence_logp(sequence)\n",
        "        n_total += len(sequence) + 1  \n",
        "    ppl = 2 ** (- (1.0 / n_total) * logp_total)  \n",
        "    return ppl"
      ]
    },
    {
      "cell_type": "code",
      "execution_count": null,
      "metadata": {
        "id": "0UaYVHf3oGeQ",
        "colab": {
          "base_uri": "https://localhost:8080/"
        },
        "outputId": "e1376b95-a678-4344-d31c-2e81369ecde0"
      },
      "outputs": [
        {
          "output_type": "stream",
          "name": "stdout",
          "text": [
            "Vocab size: 33175\n"
          ]
        }
      ],
      "source": [
        "datasets, vocab = load_wikitext()"
      ]
    },
    {
      "cell_type": "code",
      "source": [
        "len(datasets) # 3 - dict\n",
        "datasets.keys() # dict_keys(['train', 'valid', 'test'])\n",
        "len(datasets['train']) # 78274\n",
        "len(datasets['train'][0]) # 30\n",
        "len(vocab) # 33175 - list\n",
        "vocab[0]"
      ],
      "metadata": {
        "colab": {
          "base_uri": "https://localhost:8080/",
          "height": 35
        },
        "id": "KWf-5pZqvXOT",
        "outputId": "c388a92f-b8d8-432d-cc8d-bd22f84b475a"
      },
      "execution_count": null,
      "outputs": [
        {
          "output_type": "execute_result",
          "data": {
            "text/plain": [
              "'Goo'"
            ],
            "application/vnd.google.colaboratory.intrinsic+json": {
              "type": "string"
            }
          },
          "metadata": {},
          "execution_count": 12
        }
      ]
    },
    {
      "cell_type": "markdown",
      "metadata": {
        "id": "LWyZB12ioGeb"
      },
      "source": [
        "#### Utilities\n",
        "\n",
        "(Hint: you can adopt the `Dictionary`, dataset loading, `Dataloader`, `pad_collate_fn`, and training code from the lab: [**07-rnn_lm.ipynb**](https://drive.google.com/file/d/1scqLM26Njy4ACL9zyIQEVcoP32eTN77i/view?usp=sharing) for use here)"
      ]
    },
    {
      "cell_type": "code",
      "execution_count": null,
      "metadata": {
        "id": "6uIKXE2wsMDJ"
      },
      "outputs": [],
      "source": [
        "# function to map words to indices and returns a dictionary\n",
        "class Dictionary(object): \n",
        "    def __init__(self, datasets, include_valid=False):\n",
        "        self.tokens = []\n",
        "        self.ids = {}\n",
        "        self.counts = {}\n",
        "        \n",
        "        # add special tokens\n",
        "        self.add_token('') #beginning of sentence\n",
        "        self.add_token('') #end of sentence\n",
        "        self.add_token('')\n",
        "        self.add_token('') #unknown. Needed in case use with text with word that isn't in vocab\n",
        "        \n",
        "        for line in tqdm(datasets['train']):\n",
        "            for w in line:\n",
        "                self.add_token(w)\n",
        "                    \n",
        "        if include_valid is True:\n",
        "            for line in tqdm(datasets['valid']):\n",
        "                for w in line:\n",
        "                    self.add_token(w)\n",
        "                            \n",
        "    def add_token(self, w):\n",
        "        if w not in self.tokens:\n",
        "            self.tokens.append(w)\n",
        "            _w_id = len(self.tokens) - 1\n",
        "            self.ids[w] = _w_id\n",
        "            self.counts[w] = 1\n",
        "        else:\n",
        "            self.counts[w] += 1\n",
        "\n",
        "    def get_id(self, w):\n",
        "        return self.ids[w]\n",
        "    \n",
        "    def get_token(self, idx):\n",
        "        return self.tokens[idx]\n",
        "    \n",
        "    def decode_idx_seq(self, l):\n",
        "        return [self.tokens[i] for i in l]\n",
        "    \n",
        "    def encode_token_seq(self, l):\n",
        "        return [self.ids[i] if i in self.ids else self.ids[''] for i in l]\n",
        "    \n",
        "    def __len__(self):\n",
        "        return len(self.tokens)"
      ]
    },
    {
      "cell_type": "code",
      "source": [
        "wiki_dict = Dictionary(datasets, include_valid = True)"
      ],
      "metadata": {
        "colab": {
          "base_uri": "https://localhost:8080/"
        },
        "id": "NBz-DBf2ZOQn",
        "outputId": "1b5a434b-d687-414b-9435-56a1b474e655"
      },
      "execution_count": null,
      "outputs": [
        {
          "output_type": "stream",
          "name": "stderr",
          "text": [
            "100%|██████████| 78274/78274 [02:16<00:00, 571.74it/s]\n",
            "100%|██████████| 8464/8464 [00:10<00:00, 802.07it/s]\n"
          ]
        }
      ]
    },
    {
      "cell_type": "code",
      "source": [
        "print(len(wiki_dict))\n",
        "for i in range(10):\n",
        "    print(i, wiki_dict.get_token(i))"
      ],
      "metadata": {
        "colab": {
          "base_uri": "https://localhost:8080/"
        },
        "id": "2TNNrbKVZltu",
        "outputId": "e2ca9802-101f-485d-ee2a-c8db8a14a6f1"
      },
      "execution_count": null,
      "outputs": [
        {
          "output_type": "stream",
          "name": "stdout",
          "text": [
            "33179\n",
            "0 \n",
            "1 Valkyria\n",
            "2 of\n",
            "3 the\n",
            "4 Battlefield\n",
            "5 3\n",
            "6 )\n",
            "7 ,\n",
            "8 commonly\n",
            "9 referred\n"
          ]
        }
      ]
    },
    {
      "cell_type": "code",
      "source": [
        "def tokenize_dataset(datasets, dictionary): #substitute words with numbers. Sometimes can include splitting strings, dealing with punctuation and symbols.\n",
        "    tokenized_datasets = {}\n",
        "    for split, dataset in datasets.items():\n",
        "        _current_dictified = []\n",
        "        for l in tqdm(dataset):\n",
        "            l = [''] + l + ['']\n",
        "            encoded_l = dictionary.encode_token_seq(l)\n",
        "            _current_dictified.append(encoded_l)\n",
        "        tokenized_datasets[split] = _current_dictified\n",
        "        \n",
        "    return tokenized_datasets"
      ],
      "metadata": {
        "id": "ua1nSaubZlNy"
      },
      "execution_count": null,
      "outputs": []
    },
    {
      "cell_type": "code",
      "source": [
        "class TensoredDataset(Dataset):\n",
        "    def __init__(self, list_of_lists_of_tokens):\n",
        "        self.input_tensors = []\n",
        "        self.target_tensors = []\n",
        "        \n",
        "        for sample in list_of_lists_of_tokens:\n",
        "            self.input_tensors.append(torch.tensor([sample[:-1]], dtype=torch.long))\n",
        "            self.target_tensors.append(torch.tensor([sample[1:]], dtype=torch.long))\n",
        "    \n",
        "    def __len__(self):\n",
        "        return len(self.input_tensors)\n",
        "    \n",
        "    def __getitem__(self, idx):\n",
        "        # return a (input, target) tuple\n",
        "        return (self.input_tensors[idx], self.target_tensors[idx])"
      ],
      "metadata": {
        "id": "-ZL4Wek3eJpJ"
      },
      "execution_count": null,
      "outputs": []
    },
    {
      "cell_type": "code",
      "source": [
        "def pad_list_of_tensors(list_of_tensors, pad_token):\n",
        "    max_length = max([t.size(-1) for t in list_of_tensors])\n",
        "    padded_list = []\n",
        "    \n",
        "    for t in list_of_tensors:\n",
        "        padded_tensor = torch.cat([t, torch.tensor([[pad_token]*(max_length - t.size(-1))], dtype=torch.long)], dim = -1)\n",
        "        padded_list.append(padded_tensor)\n",
        "        \n",
        "    padded_tensor = torch.cat(padded_list, dim=0)\n",
        "    \n",
        "    return padded_tensor"
      ],
      "metadata": {
        "id": "3-WE05qleJPC"
      },
      "execution_count": null,
      "outputs": []
    },
    {
      "cell_type": "code",
      "source": [
        "def pad_collate_fn(batch):\n",
        "    # batch is a list of sample tuples\n",
        "    input_list = [s[0] for s in batch]\n",
        "    target_list = [s[1] for s in batch]\n",
        "    \n",
        "    pad_token = wiki_dict.get_id('')\n",
        "    \n",
        "    input_tensor = pad_list_of_tensors(input_list, pad_token)\n",
        "    target_tensor = pad_list_of_tensors(target_list, pad_token)\n",
        "    \n",
        "    return input_tensor, target_tensor"
      ],
      "metadata": {
        "id": "ljrvs16WeI_q"
      },
      "execution_count": null,
      "outputs": []
    },
    {
      "cell_type": "code",
      "source": [
        "wiki_tokenized_datasets = tokenize_dataset(datasets, wiki_dict)\n",
        "wiki_tensor_dataset = {}\n",
        "\n",
        "for split, listoflists in wiki_tokenized_datasets.items():\n",
        "    wiki_tensor_dataset[split] = TensoredDataset(listoflists)\n",
        "    \n",
        "# check the first example\n",
        "wiki_tensor_dataset['train'][0]"
      ],
      "metadata": {
        "colab": {
          "base_uri": "https://localhost:8080/"
        },
        "id": "W9A95aB-eIr5",
        "outputId": "e5b0443c-6b53-4672-f650-5977089c4755"
      },
      "execution_count": null,
      "outputs": [
        {
          "output_type": "stream",
          "name": "stderr",
          "text": [
            "100%|██████████| 78274/78274 [00:00<00:00, 118119.27it/s]\n",
            "100%|██████████| 8464/8464 [00:00<00:00, 155711.17it/s]\n",
            "100%|██████████| 9708/9708 [00:00<00:00, 152473.88it/s]\n"
          ]
        },
        {
          "output_type": "execute_result",
          "data": {
            "text/plain": [
              "(tensor([[ 0,  1,  2,  3,  4,  5,  6,  7,  8,  9, 10, 11,  1, 12, 13, 14, 15,  7,\n",
              "          16, 17, 18, 19, 20, 21, 22, 23, 24, 25, 26, 27, 28]]),\n",
              " tensor([[ 1,  2,  3,  4,  5,  6,  7,  8,  9, 10, 11,  1, 12, 13, 14, 15,  7, 16,\n",
              "          17, 18, 19, 20, 21, 22, 23, 24, 25, 26, 27, 28,  0]]))"
            ]
          },
          "metadata": {},
          "execution_count": 20
        }
      ]
    },
    {
      "cell_type": "code",
      "source": [
        "data_loaders = {}\n",
        "\n",
        "batch_size = 128\n",
        "\n",
        "for split, datasets in wiki_tensor_dataset.items():\n",
        "    data_loaders[split] = DataLoader(datasets, batch_size=batch_size, shuffle=True, collate_fn=pad_collate_fn, drop_last=True)\n",
        "\n",
        "data_loaders"
      ],
      "metadata": {
        "colab": {
          "base_uri": "https://localhost:8080/"
        },
        "id": "VRN34U20fJep",
        "outputId": "7990af41-b64e-446c-844b-bdd0cc6424be"
      },
      "execution_count": null,
      "outputs": [
        {
          "output_type": "execute_result",
          "data": {
            "text/plain": [
              "{'train': <torch.utils.data.dataloader.DataLoader at 0x7f479b746a10>,\n",
              " 'valid': <torch.utils.data.dataloader.DataLoader at 0x7f479b746b10>,\n",
              " 'test': <torch.utils.data.dataloader.DataLoader at 0x7f479b746bd0>}"
            ]
          },
          "metadata": {},
          "execution_count": 21
        }
      ]
    },
    {
      "cell_type": "code",
      "source": [],
      "metadata": {
        "id": "YGRMuAh6fJQS"
      },
      "execution_count": null,
      "outputs": []
    },
    {
      "cell_type": "markdown",
      "metadata": {
        "id": "gbugaRMgjMGj"
      },
      "source": [
        "#### Model + Training (5 pts)"
      ]
    },
    {
      "cell_type": "code",
      "execution_count": null,
      "metadata": {
        "id": "SiyT9W9LjKmU"
      },
      "outputs": [],
      "source": [
        "class LSTMLanguageModel(nn.Module):\n",
        "    \"\"\"\n",
        "    This model combines embedding, rnn and projection layer into a single model\n",
        "    \"\"\"\n",
        "    def __init__(self, options):\n",
        "        super().__init__()\n",
        "        \n",
        "        # create each LM part here \n",
        "        self.lookup = nn.Embedding(num_embeddings=options['num_embeddings'], embedding_dim=options['embedding_dim'], padding_idx=options['padding_idx'])\n",
        "        self.lstm = nn.LSTM(options['input_size'], options['hidden_size'], options['num_layers'], batch_first=True)\n",
        "        self.projection = nn.Linear(options['hidden_size'], options['num_embeddings'])\n",
        "\n",
        "    def forward(self, encoded_input_sequence, hidden):\n",
        "        \"\"\"\n",
        "        Forward method process the input from token ids to logits\n",
        "        \"\"\"\n",
        "        embeddings = self.lookup(encoded_input_sequence)\n",
        "        outputs, hidden = self.lstm(embeddings)\n",
        "        logits = self.projection(outputs) #convenient for seq to seq models. check shape of output. lstm gives different\n",
        "        # print('logits: ', logits.shape)\n",
        "        return logits, hidden\n",
        "    \n",
        "    def hidden_state(self, batch_size):\n",
        "        return (torch.zeros(options['num_layers'], batch_size, options['hidden_size']), \n",
        "                torch.zeros(options['num_layers'], batch_size, options['hidden_size']))"
      ]
    },
    {
      "cell_type": "code",
      "source": [
        "embedding_size = 256\n",
        "hidden_size = 512\n",
        "num_layers = 3\n",
        "rnn_dropout = 0.3\n",
        "\n",
        "options = {\n",
        "    'num_embeddings': len(wiki_dict),\n",
        "    'embedding_dim': embedding_size,\n",
        "    'padding_idx': wiki_dict.get_id(''),\n",
        "    'input_size': embedding_size,\n",
        "    'hidden_size': hidden_size,\n",
        "    'num_layers': num_layers\n",
        "}\n",
        "num_epochs = 30\n",
        "m = 3"
      ],
      "metadata": {
        "id": "BSicOg9_rW9-"
      },
      "execution_count": null,
      "outputs": []
    },
    {
      "cell_type": "code",
      "source": [
        "# function for training the LSTM model\n",
        "def training(options, data_loaders, num_epoches, m, save_best): \n",
        "    plot_cache = []\n",
        "    model = LSTMLanguageModel(options).to(current_device)\n",
        "    best_model = copy.deepcopy(model)\n",
        "    criterion = nn.CrossEntropyLoss(ignore_index=wiki_dict.get_id(''))\n",
        "    model_parameters = [p for p in model.parameters() if p.requires_grad]\n",
        "    optimizer = optim.SGD(model_parameters, lr=0.001, momentum=0.999)\n",
        "    # variable to keep track of epoch performance for early stopping\n",
        "    epoch_counter = 0\n",
        "    # train and validation losses through epochs\n",
        "    train_losses = []\n",
        "    val_losses = []\n",
        "    # start training by epochs\n",
        "    for epoch_number in range(num_epochs):\n",
        "        avg_loss=0\n",
        "        model.train()\n",
        "        train_log_cache = []\n",
        "        for i, (inp, target) in enumerate(data_loaders['train']):\n",
        "            h_n, c_n = model.hidden_state(batch_size)\n",
        "            optimizer.zero_grad()\n",
        "            inp = inp.to(current_device)\n",
        "            target = target.to(current_device)\n",
        "            h_n = h_n.to(current_device)\n",
        "            c_n = c_n.to(current_device)\n",
        "            logits, (h_n, c_n) = model(inp, (h_n, c_n))\n",
        "            h_n, c_n = h_n.detach(), c_n.detach()\n",
        "\n",
        "            loss = criterion(logits.view(-1, logits.size(-1)), target.view(-1))\n",
        "            \n",
        "            loss.backward()\n",
        "            optimizer.step()\n",
        "            \n",
        "            train_log_cache.append(loss.item())\n",
        "        \n",
        "            if i % 100 == 0:\n",
        "                avg_loss = sum(train_log_cache)/len(train_log_cache)\n",
        "                print('Step {} avg train loss = {:.{prec}f}'.format(i, avg_loss, prec=4))\n",
        "                train_log_cache = []\n",
        "\n",
        "        # do valid\n",
        "        valid_losses = []\n",
        "        model.eval()\n",
        "        with torch.no_grad():\n",
        "            for i, (inp, target) in enumerate(data_loaders['valid']):\n",
        "                h_n, c_n = model.hidden_state(batch_size)\n",
        "                inp = inp.to(current_device)\n",
        "                target = target.to(current_device)\n",
        "                h_n = h_n.to(current_device)\n",
        "                c_n = c_n.to(current_device)\n",
        "                logits, (h_n, c_n) = model(inp, (h_n, c_n))\n",
        "\n",
        "                loss = criterion(logits.view(-1, logits.size(-1)), target.view(-1))\n",
        "                valid_losses.append(loss.item())\n",
        "            avg_val_loss = sum(valid_losses) / len(valid_losses)\n",
        "            print('Validation loss after {} epoch = {:.{prec}f}'.format(epoch_number, avg_val_loss, prec=4))\n",
        "\n",
        "        # check for early stopping\n",
        "        if epoch_number != 0:\n",
        "            if avg_val_loss >= prev_val_loss:\n",
        "                epoch_counter += 1            \n",
        "            else:\n",
        "                epoch_counter = 0 # reset the counter to 0\n",
        "                if save_best == True:\n",
        "                    best_model = copy.deepcopy(model)\n",
        "            if epoch_counter == m: # when early stopping is implemented\n",
        "                break\n",
        "\n",
        "        # update the prev_val_loss variable with the current loss before the next iteration\n",
        "        prev_val_loss = avg_val_loss\n",
        "        # update the losses\n",
        "        train_losses.append(avg_loss)\n",
        "        val_losses.append(avg_val_loss)\n",
        "    \n",
        "    # compute the perplexities\n",
        "    train_perplexity = [2**(x/np.log(2)) for x in train_losses]\n",
        "    val_perplexity = [2**(x/np.log(2)) for x in val_losses]\n",
        "\n",
        "    plot_cache.append((train_losses, val_losses))\n",
        "    # save the model\n",
        "    hidden_size = options[\"hidden_size\"]\n",
        "    torch.save({'options': options, 'losses': plot_cache, 'model_dict': model.state_dict()}, f'model_lstm_{hidden_size}.pt')\n",
        "\n",
        "    return train_losses, val_losses, train_perplexity, val_perplexity, plot_cache, best_model"
      ],
      "metadata": {
        "id": "YLe4HnVArWwF"
      },
      "execution_count": null,
      "outputs": []
    },
    {
      "cell_type": "code",
      "source": [
        "num_epochs = 30\n",
        "m = 3\n",
        "save_best = True\n",
        "\n",
        "# training the first model\n",
        "train_losses, val_losses, train_perplexity, val_perplexity, plot_cache, best_model = training(options, data_loaders, num_epochs, m, save_best)\n"
      ],
      "metadata": {
        "id": "pjpzrVzPrWSv"
      },
      "execution_count": null,
      "outputs": []
    },
    {
      "cell_type": "code",
      "source": [
        "best_model"
      ],
      "metadata": {
        "id": "QEvZ9rrhNzSV",
        "colab": {
          "base_uri": "https://localhost:8080/"
        },
        "outputId": "fb2c9282-a0f2-4f60-a1a2-8462490be5f1"
      },
      "execution_count": null,
      "outputs": [
        {
          "output_type": "execute_result",
          "data": {
            "text/plain": [
              "LSTMLanguageModel(\n",
              "  (lookup): Embedding(33179, 256, padding_idx=0)\n",
              "  (lstm): LSTM(256, 512, num_layers=3, batch_first=True)\n",
              "  (projection): Linear(in_features=512, out_features=33179, bias=True)\n",
              ")"
            ]
          },
          "metadata": {},
          "execution_count": 26
        }
      ]
    },
    {
      "cell_type": "markdown",
      "metadata": {
        "id": "39EioMvNoGej"
      },
      "source": [
        "#### Performance variation based on hyper-parameter values (5 pts)\n"
      ]
    },
    {
      "cell_type": "code",
      "source": [
        "# hidden_sizes = [64, 128, 256]\n",
        "hidden_sizes = [128, 256]\n",
        "for hidden_size in hidden_sizes:\n",
        "    options = {\n",
        "        'num_embeddings': len(wiki_dict),\n",
        "        'embedding_dim': embedding_size,\n",
        "        'padding_idx': wiki_dict.get_id(''),\n",
        "        'input_size': embedding_size,\n",
        "        'hidden_size': hidden_size,\n",
        "        'num_layers': num_layers\n",
        "    }\n",
        "\n",
        "    num_epochs = 30\n",
        "    m = 3\n",
        "\n",
        "    # won't be saving the best model here\n",
        "    save_best = False\n",
        "    \n",
        "    # hyperparameter tuning\n",
        "    train_losses, val_losses, train_perplexity, val_perplexity, plot_cache, best_model = training(options, data_loaders, num_epochs, m, save_best)\n"
      ],
      "metadata": {
        "id": "sz1NCoM1xDxX"
      },
      "execution_count": null,
      "outputs": []
    },
    {
      "cell_type": "code",
      "source": [
        "fig, (train, val) = plt.subplots(nrows = 1, ncols = 2, figsize = (20, 10))\n",
        "\n",
        "# load the loss cache and plot the curves\n",
        "for hidden_size in [64, 128, 256, 512]:\n",
        "    model_dict = torch.load(f'model_lstm_{hidden_size}.pt', map_location = current_device)\n",
        "\n",
        "    label = f\"hidden_size: {hidden_size}\"\n",
        "\n",
        "    for loss in model_dict['losses']:\n",
        "        # plot training losses\n",
        "        train.plot(loss[0], label = label)\n",
        "        # plot validation losses\n",
        "        val.plot(loss[1], label = label)\n",
        "    train.legend()\n",
        "    train.set_title(\"train losses\")\n",
        "    val.legend()\n",
        "    val.set_title(\"validation losses\")\n",
        "    \n",
        "plt.show()"
      ],
      "metadata": {
        "id": "O_HmNfsdxDgg",
        "colab": {
          "base_uri": "https://localhost:8080/",
          "height": 471
        },
        "outputId": "d2503e00-11e3-4574-e979-b849e80de3b8"
      },
      "execution_count": null,
      "outputs": [
        {
          "output_type": "display_data",
          "data": {
            "text/plain": [
              "<Figure size 1440x720 with 2 Axes>"
            ],
            "image/png": "[encoded data removed]"
          },
          "metadata": {
            "needs_background": "light"
          }
        }
      ]
    },
    {
      "cell_type": "markdown",
      "metadata": {
        "id": "aOWSz7GRoGel"
      },
      "source": [
        "---\n",
        "### 2 Learned embeddings (6 pts)\n",
        "Next you will analyze the word embeddings that the model learns.\n"
      ]
    },
    {
      "cell_type": "markdown",
      "metadata": {
        "id": "-lWn6wotoGem"
      },
      "source": [
        "#### Utilities\n",
        "\n",
        "Below is code to use [UMAP](https://umap-learn.readthedocs.io/en/latest/) to find a 2-dimensional representation of a weight matrix, and plot the resulting 2-dimensional points that correspond to certain words.\n",
        "\n",
        "Use `!pip install umap-learn` to install UMAP."
      ]
    },
    {
      "cell_type": "code",
      "source": [
        "!pip install umap-learn"
      ],
      "metadata": {
        "id": "tUq_1ucnhgjb",
        "colab": {
          "base_uri": "https://localhost:8080/"
        },
        "outputId": "cf2a7433-3f7b-442e-b155-6f2898cdca29"
      },
      "execution_count": null,
      "outputs": [
        {
          "output_type": "stream",
          "name": "stdout",
          "text": [
            "Looking in indexes: https://pypi.org/simple, https://us-python.pkg.dev/colab-wheels/public/simple/\n",
            "Collecting umap-learn\n",
            "  Downloading umap-learn-0.5.3.tar.gz (88 kB)\n",
            "\u001b[K     |████████████████████████████████| 88 kB 6.2 MB/s \n",
            "\u001b[?25hRequirement already satisfied: numpy>=1.17 in /usr/local/lib/python3.7/dist-packages (from umap-learn) (1.21.6)\n",
            "Requirement already satisfied: scikit-learn>=0.22 in /usr/local/lib/python3.7/dist-packages (from umap-learn) (1.0.2)\n",
            "Requirement already satisfied: scipy>=1.0 in /usr/local/lib/python3.7/dist-packages (from umap-learn) (1.7.3)\n",
            "Requirement already satisfied: numba>=0.49 in /usr/local/lib/python3.7/dist-packages (from umap-learn) (0.56.3)\n",
            "Collecting pynndescent>=0.5\n",
            "  Downloading pynndescent-0.5.8.tar.gz (1.1 MB)\n",
            "\u001b[K     |████████████████████████████████| 1.1 MB 55.2 MB/s \n",
            "\u001b[?25hRequirement already satisfied: tqdm in /usr/local/lib/python3.7/dist-packages (from umap-learn) (4.64.1)\n",
            "Requirement already satisfied: llvmlite<0.40,>=0.39.0dev0 in /usr/local/lib/python3.7/dist-packages (from numba>=0.49->umap-learn) (0.39.1)\n",
            "Requirement already satisfied: importlib-metadata in /usr/local/lib/python3.7/dist-packages (from numba>=0.49->umap-learn) (4.13.0)\n",
            "Requirement already satisfied: setuptools in /usr/local/lib/python3.7/dist-packages (from numba>=0.49->umap-learn) (57.4.0)\n",
            "Requirement already satisfied: joblib>=0.11 in /usr/local/lib/python3.7/dist-packages (from pynndescent>=0.5->umap-learn) (1.2.0)\n",
            "Requirement already satisfied: typing-extensions>=3.6.4 in /usr/local/lib/python3.7/dist-packages (from importlib-metadata->numba>=0.49->umap-learn) (4.1.1)\n",
            "Requirement already satisfied: zipp>=0.5 in /usr/local/lib/python3.7/dist-packages (from importlib-metadata->numba>=0.49->umap-learn) (3.10.0)\n",
            "Requirement already satisfied: threadpoolctl>=2.0.0 in /usr/local/lib/python3.7/dist-packages (from scikit-learn>=0.22->umap-learn) (3.1.0)\n",
            "Building wheels for collected packages: umap-learn, pynndescent\n",
            "  Building wheel for umap-learn (setup.py) ... \u001b[?25l\u001b[?25hdone\n",
            "  Created wheel for umap-learn: filename=umap_learn-0.5.3-py3-none-any.whl size=82829 sha256=589a0c4ef9a4b62a7b00ebe70bd6332344a3cc30ee949067bb40e94913a2a1be\n",
            "  Stored in directory: /root/.cache/pip/wheels/b3/52/a5/1fd9e3e76a7ab34f134c07469cd6f16e27ef3a37aeff1fe821\n",
            "  Building wheel for pynndescent (setup.py) ... \u001b[?25l\u001b[?25hdone\n",
            "  Created wheel for pynndescent: filename=pynndescent-0.5.8-py3-none-any.whl size=55512 sha256=809bcd033835d96b25c6d73280b13c9a7f5fc1116b64cceb4af6cc916a4bfcaa\n",
            "  Stored in directory: /root/.cache/pip/wheels/19/bc/eb/974072a56a7082a302f8b4be1ad6d21bf5019235c2eff65928\n",
            "Successfully built umap-learn pynndescent\n",
            "Installing collected packages: pynndescent, umap-learn\n",
            "Successfully installed pynndescent-0.5.8 umap-learn-0.5.3\n"
          ]
        }
      ]
    },
    {
      "cell_type": "code",
      "execution_count": null,
      "metadata": {
        "id": "-jXDUrdMoGem",
        "colab": {
          "base_uri": "https://localhost:8080/"
        },
        "outputId": "cf23efaa-c8a4-4c53-8f16-efb09fcc588c"
      },
      "outputs": [
        {
          "output_type": "stream",
          "name": "stdout",
          "text": [
            "Populating the interactive namespace from numpy and matplotlib\n"
          ]
        },
        {
          "output_type": "stream",
          "name": "stderr",
          "text": [
            "/usr/local/lib/python3.7/dist-packages/IPython/core/magics/pylab.py:160: UserWarning: pylab import has clobbered these variables: ['split', 'copy']\n",
            "`%matplotlib` prevents importing * from pylab and numpy\n",
            "  \"\\n`%matplotlib` prevents importing * from pylab and numpy\"\n"
          ]
        }
      ],
      "source": [
        "%pylab inline \n",
        "import umap\n",
        "import matplotlib.pyplot as plt\n",
        "\n",
        "def umap_plot(weight_matrix, word_ids, words):\n",
        "    \"\"\"Run UMAP on the entire Vxd `weight_matrix` (e.g. model.lookup.weight or model.projection.weight),\n",
        "    And plot the points corresponding to the given `word_ids`. \"\"\"\n",
        "    reduced = umap.UMAP(min_dist=0.0001).fit_transform(weight_matrix.detach().cpu().numpy())\n",
        "    plt.figure(figsize=(10,10))\n",
        "\n",
        "    to_plot = reduced[word_ids, :]\n",
        "    plt.scatter(to_plot[:, 0], to_plot[:, 1])\n",
        "    for i, word_id in enumerate(word_ids):\n",
        "        current_point = to_plot[i]\n",
        "        plt.annotate(words[i], (current_point[0], current_point[1]))\n",
        "\n",
        "    plt.grid()\n",
        "    plt.show()"
      ]
    },
    {
      "cell_type": "code",
      "execution_count": null,
      "metadata": {
        "id": "kPhcd4wKoGeo",
        "colab": {
          "base_uri": "https://localhost:8080/",
          "height": 592
        },
        "outputId": "163ba75a-db74-483e-c675-e3bb19958fbe"
      },
      "outputs": [
        {
          "output_type": "display_data",
          "data": {
            "text/plain": [
              "<Figure size 720x720 with 1 Axes>"
            ],
            "image/png": "[encoded data removed]"
          },
          "metadata": {
            "needs_background": "light"
          }
        }
      ],
      "source": [
        "Vsize = 100                                 # e.g. len(dictionary)\n",
        "d = 32                                      # e.g. model.lookup.weight.size(1) \n",
        "fake_weight_matrix = torch.randn(Vsize, d)  # e.g. model.lookup.weight\n",
        "\n",
        "words = ['the', 'dog', 'ran']\n",
        "word_ids = [4, 54, 20]                  # e.g. use dictionary.get_id on a list of words\n",
        "\n",
        "umap_plot(fake_weight_matrix, word_ids, words)"
      ]
    },
    {
      "cell_type": "markdown",
      "metadata": {
        "id": "v6s7wYxXoGeq"
      },
      "source": [
        "#### 2.1 Word similarity (3 pts)\n"
      ]
    },
    {
      "cell_type": "code",
      "execution_count": null,
      "metadata": {
        "id": "eSlbsCr-oGer"
      },
      "outputs": [],
      "source": [
        "def cosine_similarity(embedding1, embedding2):\n",
        "    distance1 = np.sqrt(np.sum(embedding1 ** 2))\n",
        "    distance2 = np.sqrt(np.sum(embedding2 ** 2))\n",
        "    cosine_similarity = np.dot(embedding1, embedding2)/(distance1 * distance2)\n",
        "    return cosine_similarity"
      ]
    },
    {
      "cell_type": "code",
      "source": [
        "best_embedding = best_model.state_dict()['projection.weight']\n",
        "embedding = best_embedding.detach().cpu().numpy()"
      ],
      "metadata": {
        "id": "b3p3dPPtGhsQ"
      },
      "execution_count": null,
      "outputs": []
    },
    {
      "cell_type": "code",
      "source": [
        "words = ['dog', 'run', 'where', 'quick']\n",
        "\n",
        "# create a list of integers with the length of wiki_dict\n",
        "id_lst = [i for i in range(len(wiki_dict))]\n",
        "\n",
        "# create a list of ids for the four words we want\n",
        "word_ids = []\n",
        "for word in words:\n",
        "    word_id = wiki_dict.get_id(word)\n",
        "    word_ids.append(word_id)"
      ],
      "metadata": {
        "id": "i_mgImiGBZMi"
      },
      "execution_count": null,
      "outputs": []
    },
    {
      "cell_type": "code",
      "source": [
        "closest10 = {}\n",
        "furthest10 = {}\n",
        "closest10_ids = []\n",
        "furthest10_ids = []\n",
        "\n",
        "# constructing dictionaries with words as keys and 10 closest / furthest words as values\n",
        "for idx in range(len(word_ids)):\n",
        "    sim_scores = []\n",
        "    # create a list of ids for all the other words\n",
        "    other_ids = [id for id in id_lst if id != word_ids[idx]]\n",
        "    # compare each word with the rest \n",
        "    for other_id in other_ids:\n",
        "        sim_score = cosine_similarity(embedding[word_ids[idx]], embedding[other_id])\n",
        "        sim_scores.append(sim_score)\n",
        "    # sort the cosine similarity scores from highest to lowest\n",
        "    sorted_scores = sorted(sim_scores, reverse = True)\n",
        "    # create a list for the closest and furthest 10 similarity scores\n",
        "    closest10score = sorted_scores[:10]\n",
        "    furthest10score = sorted_scores[-10:]\n",
        "    # create a list for the closest and furthest 10 ids\n",
        "    closest10id = [sim_scores.index(closest10score[i]) for i in range(10)]\n",
        "    closest10_ids.append(closest10id)\n",
        "    furthest10id = [sim_scores.index(furthest10score[i]) for i in range(10)]\n",
        "    furthest10_ids.append(furthest10id)\n",
        "    # create a list for the closest and furthest 10 words converted from ids\n",
        "    closest10words = [wiki_dict.get_token(id) for id in closest10id]\n",
        "    furthest10words = [wiki_dict.get_token(id) for id in furthest10id]\n",
        "    # adding words as keys and 10 closest / furthest words as values to the dictionary\n",
        "    closest10[words[idx]] = closest10words\n",
        "    furthest10[words[idx]] = furthest10words"
      ],
      "metadata": {
        "id": "NyScX6NEBZx6"
      },
      "execution_count": null,
      "outputs": []
    },
    {
      "cell_type": "code",
      "source": [
        "# closest ten words for each of the four words: 'dog', 'run', 'where', 'quick'\n",
        "closest10"
      ],
      "metadata": {
        "id": "PBQxB5vFBchh",
        "colab": {
          "base_uri": "https://localhost:8080/"
        },
        "outputId": "ba47c623-dac1-4251-9083-37cda7327573"
      },
      "execution_count": null,
      "outputs": [
        {
          "output_type": "execute_result",
          "data": {
            "text/plain": [
              "{'dog': ['persecution',\n",
              "  'demonstrating',\n",
              "  'voice',\n",
              "  'Levy',\n",
              "  'remembering',\n",
              "  'idea',\n",
              "  'lyrics',\n",
              "  'ability',\n",
              "  'concept',\n",
              "  'Domingo'],\n",
              " 'run': ['play',\n",
              "  'match',\n",
              "  'Nonetheless',\n",
              "  'release',\n",
              "  'set',\n",
              "  'return',\n",
              "  'win',\n",
              "  'record',\n",
              "  'final',\n",
              "  'score'],\n",
              " 'where': ['approach',\n",
              "  'become',\n",
              "  'synthesizer',\n",
              "  'but',\n",
              "  'during',\n",
              "  'finalized',\n",
              "  'who',\n",
              "  'Concept',\n",
              "  'told',\n",
              "  'Perhaps'],\n",
              " 'quick': ['healthy',\n",
              "  'Spotlight',\n",
              "  'widths',\n",
              "  'strong',\n",
              "  'separate',\n",
              "  'apart',\n",
              "  'converge',\n",
              "  'film',\n",
              "  'kindergarten',\n",
              "  'flesh']}"
            ]
          },
          "metadata": {},
          "execution_count": 36
        }
      ]
    },
    {
      "cell_type": "code",
      "source": [
        "# furthest ten words for each of the four words: 'dog', 'run', 'where', 'quick'\n",
        "furthest10"
      ],
      "metadata": {
        "id": "WnEXYSJLBfxQ",
        "colab": {
          "base_uri": "https://localhost:8080/"
        },
        "outputId": "b1748fd7-3eee-417c-b0d3-54c549487bd3"
      },
      "execution_count": null,
      "outputs": [
        {
          "output_type": "execute_result",
          "data": {
            "text/plain": [
              "{'dog': ['Victory',\n",
              "  '2055',\n",
              "  'Niagara',\n",
              "  '171',\n",
              "  'hampering',\n",
              "  '1943',\n",
              "  'Castanea',\n",
              "  'Edinburgh',\n",
              "  'Avenue',\n",
              "  '0600'],\n",
              " 'run': ['undertakings',\n",
              "  'nuances',\n",
              "  'ectomycorrhizae',\n",
              "  'decency',\n",
              "  'clearer',\n",
              "  'the',\n",
              "  'electrical',\n",
              "  'Kirkland',\n",
              "  'Orsini',\n",
              "  'rations'],\n",
              " 'where': ['euphoria',\n",
              "  'confronted',\n",
              "  'Elkton',\n",
              "  'Akropolites',\n",
              "  'superintendent',\n",
              "  'Normandy',\n",
              "  'cofferdam',\n",
              "  'the',\n",
              "  '050',\n",
              "  'Martindale'],\n",
              " 'quick': ['Grey',\n",
              "  'piracy',\n",
              "  'Su',\n",
              "  'Digg',\n",
              "  'Tour',\n",
              "  'pirates',\n",
              "  'starts',\n",
              "  'Ruppert',\n",
              "  'should',\n",
              "  'alarms']}"
            ]
          },
          "metadata": {},
          "execution_count": 37
        }
      ]
    },
    {
      "cell_type": "markdown",
      "metadata": {
        "id": "KI1lsvVzoGes"
      },
      "source": [
        "#### 2.2 UMAP (3 pts)"
      ]
    },
    {
      "cell_type": "code",
      "execution_count": null,
      "metadata": {
        "id": "QfDWQ0l7oGet"
      },
      "outputs": [],
      "source": [
        "allclosest10words = []\n",
        "for sublist in [words for words in closest10.values()]:\n",
        "    for word in sublist:\n",
        "        allclosest10words.append(word)\n",
        "\n",
        "allfurthest10words = []\n",
        "for sublist in [words for words in furthest10.values()]:\n",
        "    for word in sublist:\n",
        "        allfurthest10words.append(word)\n",
        "\n",
        "all_closest10_ids = []\n",
        "for sublist in closest10_ids:\n",
        "    for id in sublist:\n",
        "        all_closest10_ids.append(id)\n",
        "\n",
        "all_furthest10_ids = []\n",
        "for sublist in furthest10_ids:\n",
        "    for id in sublist:\n",
        "        all_furthest10_ids.append(id)\n",
        "\n",
        "all_words = words + allclosest10words + allfurthest10words\n",
        "all_word_ids = word_ids + all_closest10_ids + all_furthest10_ids"
      ]
    },
    {
      "cell_type": "code",
      "source": [
        "umap_plot(best_embedding, all_word_ids, all_words)"
      ],
      "metadata": {
        "colab": {
          "base_uri": "https://localhost:8080/",
          "height": 592
        },
        "id": "oEhDl7iZCP4S",
        "outputId": "cd7f71df-71ac-42e5-f8b6-70ec5c43249b"
      },
      "execution_count": null,
      "outputs": [
        {
          "output_type": "display_data",
          "data": {
            "text/plain": [
              "<Figure size 720x720 with 1 Axes>"
            ],
            "image/png": "[encoded data removed]"
          },
          "metadata": {
            "needs_background": "light"
          }
        }
      ]
    }
  ],
  "metadata": {
    "accelerator": "GPU",
    "colab": {
      "collapsed_sections": [],
      "provenance": []
    },
    "kernelspec": {
      "display_name": "Python 3.8.2 64-bit",
      "language": "python",
      "name": "python3"
    },
    "language_info": {
      "codemirror_mode": {
        "name": "ipython",
        "version": 3
      },
      "file_extension": ".py",
      "mimetype": "text/x-python",
      "name": "python",
      "nbconvert_exporter": "python",
      "pygments_lexer": "ipython3",
      "version": "3.8.2"
    },
    "vscode": {
      "interpreter": {
        "hash": "31f2aee4e71d21fbe5cf8b01ff0e069b9275f58929596ceb00d14d90e3e16cd6"
      }
    },
    "gpuClass": "standard"
  },
  "nbformat": 4,
  "nbformat_minor": 0
}